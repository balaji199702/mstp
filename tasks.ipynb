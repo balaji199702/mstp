{
 "cells": [
  {
   "cell_type": "markdown",
   "metadata": {},
   "source": [
    "# 27-08-2019"
   ]
  },
  {
   "cell_type": "markdown",
   "metadata": {},
   "source": [
    "## program for printing first 15 prime number"
   ]
  },
  {
   "cell_type": "code",
   "execution_count": 22,
   "metadata": {},
   "outputs": [
    {
     "name": "stdout",
     "output_type": "stream",
     "text": [
      "1  -  2\n",
      "2  -  3\n",
      "3  -  5\n",
      "4  -  7\n",
      "5  -  11\n",
      "6  -  13\n",
      "7  -  17\n",
      "8  -  19\n",
      "9  -  23\n",
      "10  -  29\n",
      "11  -  31\n",
      "12  -  37\n",
      "13  -  41\n",
      "14  -  43\n",
      "15  -  47\n"
     ]
    }
   ],
   "source": [
    "i=1\n",
    "x=2\n",
    "flag=0\n",
    "while i<=15:\n",
    "    for j in range(2,x):\n",
    "        if(x%j==0):\n",
    "            flag+=1\n",
    "    if(flag==0):\n",
    "        i+=1\n",
    "        print(i-1,' - ',x)\n",
    "        x+=1\n",
    "    else:\n",
    "        x=x+1\n",
    "        flag=0\n",
    "        "
   ]
  },
  {
   "cell_type": "markdown",
   "metadata": {},
   "source": [
    "## check the given number exist t in a given range"
   ]
  },
  {
   "cell_type": "code",
   "execution_count": 9,
   "metadata": {},
   "outputs": [
    {
     "name": "stdout",
     "output_type": "stream",
     "text": [
      "enter lower number1\n",
      "enter upper number100\n",
      "enter number215\n",
      "number  215  not exist in between  1  and  100\n"
     ]
    }
   ],
   "source": [
    "l=int(input(\"enter lower number\"))\n",
    "u=int(input(\"enter upper number\"))\n",
    "n=int(input('enter number'))\n",
    "if(l<=n<=u):\n",
    "    print('number ',n,' exist in between ',l,' and ',u)\n",
    "else:\n",
    "    print('number ',n,' not exist in between ',l,' and ',u)"
   ]
  },
  {
   "cell_type": "markdown",
   "metadata": {},
   "source": [
    "## check the number of digites in the given number"
   ]
  },
  {
   "cell_type": "code",
   "execution_count": 10,
   "metadata": {},
   "outputs": [
    {
     "name": "stdout",
     "output_type": "stream",
     "text": [
      "enter a number123456\n",
      "the length of the given number n =  123456  is  6\n"
     ]
    }
   ],
   "source": [
    "n=int(input('enter a number'))\n",
    "print('the length of the given number n = ',n,' is ',len(str(n)))"
   ]
  },
  {
   "cell_type": "markdown",
   "metadata": {},
   "source": [
    "## given number is factor of 1000 or not"
   ]
  },
  {
   "cell_type": "code",
   "execution_count": 11,
   "metadata": {},
   "outputs": [
    {
     "name": "stdout",
     "output_type": "stream",
     "text": [
      "enter a number25\n",
      "yes\n"
     ]
    }
   ],
   "source": [
    "num=int (input('enter a number'))\n",
    "if 1000%num==0:\n",
    "    print('yes')\n",
    "else:\n",
    "    print('no')"
   ]
  },
  {
   "cell_type": "markdown",
   "metadata": {},
   "source": [
    "## calculate the square root of a givrn number"
   ]
  },
  {
   "cell_type": "code",
   "execution_count": 15,
   "metadata": {},
   "outputs": [
    {
     "name": "stdout",
     "output_type": "stream",
     "text": [
      "255\n",
      "the square root of  255  is   15.968719422671311\n"
     ]
    }
   ],
   "source": [
    "n=int(input(\"\"))\n",
    "s=(n**(1/2))\n",
    "print('the square root of ',n,' is  ',s)"
   ]
  },
  {
   "cell_type": "markdown",
   "metadata": {},
   "source": [
    "# print count and average of numbers taken by the user in a single line"
   ]
  },
  {
   "cell_type": "code",
   "execution_count": 16,
   "metadata": {},
   "outputs": [
    {
     "name": "stdout",
     "output_type": "stream",
     "text": [
      "1,2,3,4,5,6,7,8,9,10\n",
      "count of given number  10\n",
      "average of given numbers is 5.5\n"
     ]
    }
   ],
   "source": [
    "x=input()\n",
    "s=0\n",
    "c=0\n",
    "x=x.split(',')\n",
    "for i in x:\n",
    "    s+=int(i)\n",
    "    c=c+1\n",
    "print('count of given number ',c)\n",
    "print('average of given numbers is',s/c)"
   ]
  },
  {
   "cell_type": "markdown",
   "metadata": {},
   "source": [
    "## given string is pallindrom or not"
   ]
  },
  {
   "cell_type": "code",
   "execution_count": 21,
   "metadata": {},
   "outputs": [
    {
     "name": "stdout",
     "output_type": "stream",
     "text": [
      "madam\n",
      "yes\n"
     ]
    }
   ],
   "source": [
    "s=input()\n",
    "ss=s[-1::-1]\n",
    "if(s==ss):\n",
    "    print('yes')\n",
    "else:\n",
    "    print('no')"
   ]
  },
  {
   "cell_type": "markdown",
   "metadata": {},
   "source": [
    "## prime numbers upto \"n\""
   ]
  },
  {
   "cell_type": "code",
   "execution_count": 2,
   "metadata": {},
   "outputs": [
    {
     "name": "stdout",
     "output_type": "stream",
     "text": [
      "enter a number10\n",
      "2\n",
      "3\n",
      "5\n",
      "7\n"
     ]
    }
   ],
   "source": [
    "n=int(input(\"enter a number\"))\n",
    "flag=0\n",
    "for i in range(2,n+1):\n",
    "    for j in range(2,int(i**(1/2))+1):\n",
    "        if(i%j==0):\n",
    "            flag+=1\n",
    "    if(flag==0):\n",
    "        print(i)  \n",
    "    else:\n",
    "        flag=0\n"
   ]
  },
  {
   "cell_type": "markdown",
   "metadata": {},
   "source": [
    "## count the number od divisiors of 'n' in between the range l and u (including l,u )"
   ]
  },
  {
   "cell_type": "code",
   "execution_count": 31,
   "metadata": {},
   "outputs": [
    {
     "name": "stdout",
     "output_type": "stream",
     "text": [
      "enter a lower limit number1\n",
      "enter a upper limit number10\n",
      "enter a number5\n",
      "count = 2\n"
     ]
    }
   ],
   "source": [
    "l=int(input(\"enter a lower limit number\"))\n",
    "u=int(input(\"enter a upper limit number\"))\n",
    "n=int(input(\"enter a number\"))\n",
    "c=0\n",
    "for i in range(l,u+1):\n",
    "    if(i%n==0):\n",
    "        c+=1\n",
    "print('count =',c)\n",
    "    "
   ]
  },
  {
   "cell_type": "markdown",
   "metadata": {},
   "source": [
    "### ISBN vallid if :\n",
    "#### 1*digit1+2*digit2+3*digit3+.....+10*digit10 is divisible by 11"
   ]
  },
  {
   "cell_type": "code",
   "execution_count": 38,
   "metadata": {},
   "outputs": [
    {
     "name": "stdout",
     "output_type": "stream",
     "text": [
      "enter ISBN code 1401601499\n",
      "Ligal ISBN code\n"
     ]
    }
   ],
   "source": [
    "s=input('enter ISBN code ')\n",
    "su=0\n",
    "c=1\n",
    "for i in s:\n",
    "    su+=int(i)*c\n",
    "    c+=1\n",
    "if(su%11==0):\n",
    "    print('Ligal ISBN code')\n",
    "else:\n",
    "    print('Not a Ligal ISBN code')"
   ]
  },
  {
   "cell_type": "markdown",
   "metadata": {},
   "source": [
    "#### change a string lowercase-characters to uppercase-characters and uppercase-characters ti lowercase-characters "
   ]
  },
  {
   "cell_type": "code",
   "execution_count": 41,
   "metadata": {},
   "outputs": [
    {
     "name": "stdout",
     "output_type": "stream",
     "text": [
      "enter a string   HeLlO\n",
      "hElLo\n"
     ]
    }
   ],
   "source": [
    "s=input('enter a string   ')\n",
    "print(s.swapcase())"
   ]
  },
  {
   "cell_type": "markdown",
   "metadata": {},
   "source": [
    "## given 2 strings are equal or not"
   ]
  },
  {
   "cell_type": "code",
   "execution_count": 60,
   "metadata": {},
   "outputs": [
    {
     "name": "stdout",
     "output_type": "stream",
     "text": [
      "1234\n",
      "2314\n",
      "same\n"
     ]
    }
   ],
   "source": [
    "z=input()\n",
    "Y=input()\n",
    "flag=0\n",
    "for j in z:\n",
    "    if(j not in Y):\n",
    "        flag=1\n",
    "if(flag==1):\n",
    "    print('not same')\n",
    "else:\n",
    "    print('same')"
   ]
  },
  {
   "cell_type": "markdown",
   "metadata": {},
   "source": [
    "## a=1 b=2 c=3 .........z=26    find the sum of the characters in a givn string\n",
    "### eg: aba=1+2+1=4"
   ]
  },
  {
   "cell_type": "code",
   "execution_count": 47,
   "metadata": {},
   "outputs": [
    {
     "name": "stdout",
     "output_type": "stream",
     "text": [
      "enter a string  az\n",
      "27\n"
     ]
    }
   ],
   "source": [
    "s=input('enter a string  ')\n",
    "su=0\n",
    "for i in s:\n",
    "    su+=ord(i)-ord('a')+1\n",
    "print(su)"
   ]
  },
  {
   "cell_type": "markdown",
   "metadata": {},
   "source": [
    "## in a graph l-left r-right u-up "
   ]
  },
  {
   "cell_type": "code",
   "execution_count": 48,
   "metadata": {},
   "outputs": [
    {
     "name": "stdout",
     "output_type": "stream",
     "text": [
      "LLRDDR\n",
      "x =  1 y =  0\n",
      "x =  2 y =  0\n",
      "x =  1 y =  0\n",
      "x =  1 y =  -1\n",
      "x =  1 y =  -2\n",
      "x =  0 y =  -2\n"
     ]
    }
   ],
   "source": [
    "co=input()\n",
    "x=0\n",
    "y=0\n",
    "for i in co:\n",
    "    if(i=='L'):\n",
    "        x-=1\n",
    "    if(i=='R'):\n",
    "        x+=1\n",
    "    if(i=='U'):\n",
    "        y+=1\n",
    "    if(i=='D'):\n",
    "        y-=1\n",
    "    print('x = ',x,'y = ',y)"
   ]
  },
  {
   "cell_type": "markdown",
   "metadata": {},
   "source": [
    "## String Methods"
   ]
  },
  {
   "cell_type": "code",
   "execution_count": 58,
   "metadata": {},
   "outputs": [
    {
     "name": "stdout",
     "output_type": "stream",
     "text": [
      "lower case ----------------  problem solving using python\n",
      "string in reverse ---------  nohtyP gnisU gnivloS melborP\n",
      "count os \"s\" in given string- 1\n"
     ]
    }
   ],
   "source": [
    "s=\"Problem Solving Using Python\"\n",
    "print('lower case ---------------- ',s.lower())\n",
    "print('string in reverse --------- ',s[-1::-1])\n",
    "print('count os \"s\" in given string-',s.count('s'))"
   ]
  },
  {
   "cell_type": "code",
   "execution_count": 56,
   "metadata": {},
   "outputs": [
    {
     "name": "stdout",
     "output_type": "stream",
     "text": [
      "count of \" python \" in given string  2\n"
     ]
    }
   ],
   "source": [
    "c=\"python programming by python platform\"\n",
    "print('count of \" python \" in given string ',c.count('python'))"
   ]
  },
  {
   "cell_type": "code",
   "execution_count": null,
   "metadata": {},
   "outputs": [],
   "source": []
  }
 ],
 "metadata": {
  "kernelspec": {
   "display_name": "Python 3",
   "language": "python",
   "name": "python3"
  },
  "language_info": {
   "codemirror_mode": {
    "name": "ipython",
    "version": 3
   },
   "file_extension": ".py",
   "mimetype": "text/x-python",
   "name": "python",
   "nbconvert_exporter": "python",
   "pygments_lexer": "ipython3",
   "version": "3.7.3"
  }
 },
 "nbformat": 4,
 "nbformat_minor": 2
}
